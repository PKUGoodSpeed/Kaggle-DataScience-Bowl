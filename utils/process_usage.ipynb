{
 "cells": [
  {
   "cell_type": "markdown",
   "metadata": {},
   "source": [
    "##### Illustration showing how to use process.py"
   ]
  },
  {
   "cell_type": "code",
   "execution_count": 1,
   "metadata": {
    "collapsed": true
   },
   "outputs": [],
   "source": [
    "from process import *\n",
    "from IPython.display import display"
   ]
  },
  {
   "cell_type": "markdown",
   "metadata": {},
   "source": [
    "#### `ImagePrec` Object:\n",
    "\n",
    "Taking arguments:\n",
    "\n",
    "    - path: training set path\n",
    "    - size: cropped image size\n",
    "    - channel: should always be 3\n",
    "    - normalize: Current normalization way is img = (img - img.mean())/img.std()\n",
    "    - augment: Current augmentation way is 4 rotations + 1 reflection for each rotated configuration"
   ]
  },
  {
   "cell_type": "code",
   "execution_count": 2,
   "metadata": {},
   "outputs": [
    {
     "name": "stdout",
     "output_type": "stream",
     "text": [
      "Extracting training image info ...\n",
      "Time Usage: 64.2307620049 sec\n",
      "5360 5360 5360\n"
     ]
    }
   ],
   "source": [
    "## Creating an object\n",
    "ip = ImagePrec(path = '../data/train',size=128, channel=3, normalize=True, augment=True)"
   ]
  },
  {
   "cell_type": "markdown",
   "metadata": {},
   "source": [
    "##### Getting training batch for each epoch via random crops\n",
    "\n",
    "#### `ip.get_batch_data`: taking arguments:\n",
    "\n",
    "    - expand: how many cropped images for each original image\n",
    "    - seed: random seed\n",
    "    - return: dict containing train_x and train_y for tensorflow/keras input/output"
   ]
  },
  {
   "cell_type": "code",
   "execution_count": 3,
   "metadata": {},
   "outputs": [
    {
     "name": "stdout",
     "output_type": "stream",
     "text": [
      "Getting cropped images ...\n",
      "Time Usage: 0.609331130981 sec\n",
      "(85760, 128, 128, 3)\n",
      "(85760, 128, 128)\n"
     ]
    }
   ],
   "source": [
    "## Generating training batch for the training process\n",
    "train = ip.get_batch_data(expand=16, seed=17)\n",
    "print train['x'].shape\n",
    "print train['y'].shape"
   ]
  },
  {
   "cell_type": "markdown",
   "metadata": {
    "collapsed": true
   },
   "source": [
    "#### `ip.get_test_set`: loading testing images\n",
    "Taking arguments:\n",
    "\n",
    "    - path: testing image path\n",
    "    - normalize: the same as __init__"
   ]
  },
  {
   "cell_type": "code",
   "execution_count": 4,
   "metadata": {},
   "outputs": [
    {
     "name": "stdout",
     "output_type": "stream",
     "text": [
      "Extracting testing image info ...\n",
      "Time Usage: 0.790266036987 sec\n",
      "65 65\n"
     ]
    }
   ],
   "source": [
    "ip.get_test_set(path='../data/test', normalize=True)"
   ]
  },
  {
   "cell_type": "markdown",
   "metadata": {},
   "source": [
    "#### `ip.predict`: Generating probability map\n",
    "\n",
    "Taking arguments:\n",
    "\n",
    "    - model: keras/tensorflow model object, should have `predict` method\n",
    "    - stride: how to use the prediction to cover the who image."
   ]
  },
  {
   "cell_type": "code",
   "execution_count": 5,
   "metadata": {},
   "outputs": [
    {
     "name": "stdout",
     "output_type": "stream",
     "text": [
      "Getting predictions ...\n",
      "Time Usage: 6.41206693649 sec\n"
     ]
    }
   ],
   "source": [
    "model = TestModel()\n",
    "masks = ip.predict(model, stride=16)"
   ]
  },
  {
   "cell_type": "markdown",
   "metadata": {},
   "source": [
    "#### `ip.encoding`: runlength encoding:\n",
    "    \n",
    "    - threshod: the threshold probability"
   ]
  },
  {
   "cell_type": "code",
   "execution_count": 6,
   "metadata": {},
   "outputs": [
    {
     "name": "stdout",
     "output_type": "stream",
     "text": [
      "Generating submission ...\n"
     ]
    }
   ],
   "source": [
    "sub = ip.encoding(threshold=0.)\n",
    "sub.to_csv('test.csv', index=False)"
   ]
  },
  {
   "cell_type": "code",
   "execution_count": 7,
   "metadata": {},
   "outputs": [
    {
     "name": "stdout",
     "output_type": "stream",
     "text": [
      "\u001b7\u001b[?47h\u001b[?1h\u001b=\u001b[2;1H▽\u001b[6n\u001b[1;1H  \u001b[1;1H\u001b[1;24r\u001b[m\u001b[H\u001b[2J\u001b[24;1H\"test.csv\" 66L, 272629C\u001b[>c\u001b[1;1HImageId,EncodedPixels\n",
      "0114f484a16c152baa2d82fdd43740880a762c93f436c8988ac461c5c9dbe7d5,817 16 1553 80  \u001b[3;1H1809 64 2577 16 3089 16 3377 16 3585 32 3633 16 3841 64 5633 48 6129 16 7169 32  \u001b[4;1H7457 16 7665 16 7937 16 13441 128 13697 128 13953 128 14209 128 14465 128 14721  \u001b[5;1H128 14977 144 15233 128 15489 144 15745 144 16001 128 16257 128 16513 128 16769  \u001b[6;1H128 17025 128 17281 128 17537 128 17793 128 18033 16 18113 48 18289 16 18321 96  \u001b[7;1H18545 128 18801 16 18833 96 19057 128 19313 16 19393 48 19569 16 19649 48 19825  \u001b[8;1H128 20081 16 20161 48 20337 128 20593 16 20689 32 20849 16 20961 16 22113 32 2233\u001b[9;1H69 32 22449 48 22625 128 22881 32 22961 48 23137 32 23217 48 23393 32 23441 80 22\u001b[10;1H3649 32 23905 128 24161 32 24241 48 24417 32 24673 32 24929 32 26193 48 26449 488\u001b[11;1H 26705 48 26801 32 26961 48 27073 16 27217 48 27329 16 27473 48 27585 16 27729 11\u001b[12;1H28 27985 48 28241 48 28497 48 28753 48 29009 32 30273 48 30529 64 30785 64 310411\u001b[13;1H 64 31297 64 31553 64 31665 16 31809 64 31889 48 32065 64 32321 64 32577 64 32899\u001b[14;1H7 128 33153 128 33409 128 33681 112 33937 112 34177 128 34433 128 34609 16 346899\u001b[15;1H 128 34865 16 34945 128 35201 128 35457 128 35713 128 35969 128 36145 32 36225 11\u001b[16;1H28 36481 128 36657 16 36737 128 36913 16 36993 128 37249 128 37505 128 37761 1288\u001b[17;1H 38017 128 38273 128 38433 32 38513 144 38689 16 38769 144 38945 48 39025 144 399\u001b[18;1H201 48 39281 144 39457 32 39537 144 39713 16 39793 144 39969 32 40049 160 40225  \u001b[19;1H224 40481 32 40561 144 40737 32 40817 144 40993 224 41329 144 41585 144 41841 144\u001b[20;1H4 42097 144 42257 16 42337 160 42513 32 42593 144 42753 64 42849 160 43025 240 44\u001b[21;1H3281 240 43537 240 43793 32 43873 160 44049 48 44113 160 44305 240 44561 48 44644\u001b[22;1H1 160 44817 48 44881 176 45153 160 45409 144 45665 128 45921 128 46177 144 464333\u001b[23;1H 144 46673 144 46929 176 47185 176 47441 176 47697 176 47953 144 48209 176 48465\u001b[2;1H\u001b[34m@                                                                               \u001b[3;1H@                                                                               \u001b[4;1H@                                                                               \u001b[5;1H@                                                                               \u001b[6;1H@                                                                               \u001b[7;1H@                                                                               \u001b[8;1H@                                                                               \u001b[9;1H@                                                                               \u001b[10;1H@                                                                               \u001b[11;1H@                                                                               \u001b[12;1H@                                                                               \u001b[13;1H@                                                                               \u001b[14;1H@                                                                               \u001b[15;1H@                                                                               \u001b[16;1H@                                                                               \u001b[17;1H@                                                                               \u001b[18;1H@                                                                               \u001b[19;1H@                                                                               \u001b[20;1H@                                                                               \u001b[21;1H@                                                                               \u001b[22;1H@                                                                               \u001b[23;1H@                                                                               \u001b[m\u001b[24;63H1,1\u001b[11CTop\u001b[1;1H\u001b[24;1HType  :quit<Enter>  to exit Vim\u001b[24;63H\u001b[K\u0007\u001b[24;63H1,1\u001b[11CTop\u001b[1;1H"
     ]
    }
   ],
   "source": [
    "!vim test.csv"
   ]
  },
  {
   "cell_type": "code",
   "execution_count": null,
   "metadata": {
    "collapsed": true
   },
   "outputs": [],
   "source": []
  }
 ],
 "metadata": {
  "kernelspec": {
   "display_name": "Python 2",
   "language": "python",
   "name": "python2"
  },
  "language_info": {
   "codemirror_mode": {
    "name": "ipython",
    "version": 2
   },
   "file_extension": ".py",
   "mimetype": "text/x-python",
   "name": "python",
   "nbconvert_exporter": "python",
   "pygments_lexer": "ipython2",
   "version": "2.7.13"
  }
 },
 "nbformat": 4,
 "nbformat_minor": 2
}
