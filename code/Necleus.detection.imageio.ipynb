{
 "cells": [
  {
   "cell_type": "code",
   "execution_count": 1,
   "metadata": {
    "collapsed": true
   },
   "outputs": [],
   "source": [
    "import imageio\n",
    "import pathlib\n",
    "import numpy as np"
   ]
  },
  {
   "cell_type": "code",
   "execution_count": 2,
   "metadata": {
    "collapsed": false
   },
   "outputs": [
    {
     "data": {
      "text/plain": [
       "[WindowsPath('Necleus.detection.imageio.ipynb'),\n",
       " WindowsPath('Necleus.detection.tensorflow.ipynb'),\n",
       " WindowsPath('.ipynb_checkpoints/Necleus.detection.imageio-checkpoint.ipynb'),\n",
       " WindowsPath('.ipynb_checkpoints/Necleus.detection.tensorflow-checkpoint.ipynb'),\n",
       " WindowsPath('input/test.ipynb'),\n",
       " WindowsPath('input/.ipynb_checkpoints/test-checkpoint.ipynb')]"
      ]
     },
     "execution_count": 2,
     "metadata": {},
     "output_type": "execute_result"
    }
   ],
   "source": [
    "testpath = pathlib.Path('.')\n",
    "list(testpath.glob('**/*.ipynb'))"
   ]
  },
  {
   "cell_type": "code",
   "execution_count": 3,
   "metadata": {
    "collapsed": false
   },
   "outputs": [],
   "source": [
    "training_path = pathlib.Path('input/stage1_train').glob('**/*.png')\n",
    "training_sorted = sorted([x for x in training_path])\n",
    "im_path = training_sorted[45]\n",
    "im = imageio.imread(str(im_path))"
   ]
  },
  {
   "cell_type": "code",
   "execution_count": null,
   "metadata": {
    "collapsed": false
   },
   "outputs": [],
   "source": [
    "#im_path = training_sorted[45]\n",
    "#im = imageio.imread(str(im_path))\n",
    "type(im)\n",
    "type(im_path)"
   ]
  },
  {
   "cell_type": "code",
   "execution_count": 4,
   "metadata": {
    "collapsed": false,
    "scrolled": true
   },
   "outputs": [],
   "source": [
    "# RGB to grayscale\n",
    "# print('Original image shape:{}'.format(im.shape))\n",
    "from skimage.color import rgb2gray\n",
    "im_gray = rgb2gray(im)\n",
    "# print('New image shape:{}'.format(im.shape))"
   ]
  },
  {
   "cell_type": "code",
   "execution_count": 5,
   "metadata": {
    "collapsed": true
   },
   "outputs": [],
   "source": [
    "from skimage.filters import threshold_otsu"
   ]
  },
  {
   "cell_type": "code",
   "execution_count": 6,
   "metadata": {
    "collapsed": true
   },
   "outputs": [],
   "source": [
    "thresh_val = threshold_otsu(im_gray)"
   ]
  },
  {
   "cell_type": "code",
   "execution_count": 7,
   "metadata": {
    "collapsed": false
   },
   "outputs": [],
   "source": [
    "# create mask based on the thresh value\n",
    "mask = np.where(im_gray > thresh_val, 1, 0)\n",
    "# Make sure that larger portion of the mask is background\n",
    "if np.sum(mask==0) < np.sum(mask==1):\n",
    "    mask = np.where(mask, 0, 1)\n",
    "# np.where returns ndarray or tuple of ndarrays\n",
    "# If both x and y are specified, the output array contains elements of x where condition is True, and elements from y elsewhere."
   ]
  },
  {
   "cell_type": "code",
   "execution_count": 8,
   "metadata": {
    "collapsed": true
   },
   "outputs": [],
   "source": [
    "from scipy import ndimage"
   ]
  },
  {
   "cell_type": "code",
   "execution_count": 9,
   "metadata": {
    "collapsed": false
   },
   "outputs": [
    {
     "name": "stdout",
     "output_type": "stream",
     "text": [
      "1\n",
      "1 object detected\n"
     ]
    }
   ],
   "source": [
    "labels, nlabels = ndimage.label(mask)\n",
    "label_arrays = []\n",
    "print(nlabels)\n",
    "for label_num in range(1, nlabels+1):\n",
    "    label_mask = np.where(labels==label_num, 1, 0)\n",
    "    label_arrays.append(label_mask)\n",
    "    \n",
    "print(\"{} object detected\".format(nlabels))"
   ]
  },
  {
   "cell_type": "code",
   "execution_count": 10,
   "metadata": {
    "collapsed": false
   },
   "outputs": [
    {
     "name": "stdout",
     "output_type": "stream",
     "text": [
      "There are now 1 objects detected\n"
     ]
    }
   ],
   "source": [
    "for label_ind, label_coords in enumerate(ndimage.find_objects(labels)):\n",
    "    cell = im_gray[label_coords]\n",
    "\n",
    "# Check if the label size is too small\n",
    "if np.product(cell.shape) < 10:\n",
    "    print('Label {} is too small! Setting to 0.'.format(label_ind))\n",
    "    mask = np.where(labels==label_ind+1, 0, mask)\n",
    "    \n",
    "# Regenerate the labels\n",
    "labels, nlabels = ndimage.label(mask)\n",
    "print('There are now {} objects detected'.format(nlabels))"
   ]
  },
  {
   "cell_type": "code",
   "execution_count": 15,
   "metadata": {
    "collapsed": false
   },
   "outputs": [
    {
     "data": {
      "text/plain": [
       "array([[0, 0, 1, 1, 1, 1, 1, 1, 1, 1, 0, 0, 0, 0, 0],\n",
       "       [0, 1, 1, 1, 1, 1, 1, 1, 1, 1, 1, 0, 0, 0, 0],\n",
       "       [1, 1, 1, 1, 1, 1, 1, 1, 1, 1, 1, 0, 0, 0, 0],\n",
       "       [1, 1, 1, 1, 1, 1, 1, 1, 1, 1, 1, 1, 0, 0, 0],\n",
       "       [1, 1, 1, 1, 1, 1, 1, 1, 1, 1, 1, 1, 1, 0, 0],\n",
       "       [1, 1, 1, 1, 1, 1, 1, 1, 1, 1, 1, 1, 1, 0, 0],\n",
       "       [1, 1, 1, 1, 1, 1, 1, 1, 1, 1, 1, 1, 1, 1, 0],\n",
       "       [0, 1, 1, 1, 1, 1, 1, 1, 1, 1, 1, 1, 1, 1, 1],\n",
       "       [0, 1, 1, 1, 1, 1, 1, 1, 1, 1, 1, 1, 1, 1, 1],\n",
       "       [0, 0, 1, 1, 1, 1, 1, 1, 1, 1, 1, 1, 1, 1, 1],\n",
       "       [0, 0, 0, 0, 1, 1, 1, 1, 1, 1, 1, 1, 1, 1, 1],\n",
       "       [0, 0, 0, 0, 0, 1, 1, 1, 1, 1, 1, 1, 1, 1, 0],\n",
       "       [0, 0, 0, 0, 0, 0, 0, 1, 1, 1, 1, 1, 1, 1, 0],\n",
       "       [0, 0, 0, 0, 0, 0, 0, 0, 0, 1, 1, 1, 1, 0, 0]])"
      ]
     },
     "execution_count": 15,
     "metadata": {},
     "output_type": "execute_result"
    }
   ],
   "source": [
    "two_cell_indices = ndimage.find_objects(labels)[0]\n",
    "cell_mask = mask[two_cell_indices]\n",
    "cell_mask_opened = ndimage.binary_opening(cell_mask, iterations=8)\n",
    "cell_mask"
   ]
  },
  {
   "cell_type": "code",
   "execution_count": null,
   "metadata": {
    "collapsed": true
   },
   "outputs": [],
   "source": []
  },
  {
   "cell_type": "code",
   "execution_count": null,
   "metadata": {
    "collapsed": true
   },
   "outputs": [],
   "source": []
  }
 ],
 "metadata": {
  "anaconda-cloud": {},
  "kernelspec": {
   "display_name": "Python [default]",
   "language": "python",
   "name": "python3"
  },
  "language_info": {
   "codemirror_mode": {
    "name": "ipython",
    "version": 3
   },
   "file_extension": ".py",
   "mimetype": "text/x-python",
   "name": "python",
   "nbconvert_exporter": "python",
   "pygments_lexer": "ipython3",
   "version": "3.5.4"
  }
 },
 "nbformat": 4,
 "nbformat_minor": 1
}
