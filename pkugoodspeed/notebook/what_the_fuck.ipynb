{
 "cells": [
  {
   "cell_type": "code",
   "execution_count": 158,
   "metadata": {
    "collapsed": true
   },
   "outputs": [],
   "source": [
    "# basic\n",
    "import numpy as np\n",
    "import pandas as pd\n",
    "from IPython.display import display\n",
    "import sys\n",
    "import os\n",
    "sys.path.append('../../utils')"
   ]
  },
  {
   "cell_type": "code",
   "execution_count": 159,
   "metadata": {
    "collapsed": true
   },
   "outputs": [],
   "source": [
    "# visualization\n",
    "%matplotlib inline\n",
    "import matplotlib.pyplot as plt\n",
    "from skimage.io import imread, imshow"
   ]
  },
  {
   "cell_type": "code",
   "execution_count": null,
   "metadata": {
    "collapsed": true
   },
   "outputs": [],
   "source": [
    "# utils libs\n",
    "from process import *"
   ]
  },
  {
   "cell_type": "code",
   "execution_count": null,
   "metadata": {},
   "outputs": [
    {
     "name": "stdout",
     "output_type": "stream",
     "text": [
      "Extracting training image info ...\n"
     ]
    }
   ],
   "source": [
    "## Creating an object\n",
    "%time ip = ImagePrec(path = '../../data/train',size=128, channel=3, normalize=False, augment=True)\n",
    "\n",
    "\n",
    "## Generating training batch for the training process\n",
    "%time train = ip.get_batch_data(expand=4, seed=17)\n",
    "%time print train['x'].shape\n",
    "%time print train['y'].shape"
   ]
  },
  {
   "cell_type": "code",
   "execution_count": null,
   "metadata": {},
   "outputs": [],
   "source": [
    "idx = np.array([np.random.randint(len(train['x'])) for i in range(9)])\n",
    "print idx"
   ]
  },
  {
   "cell_type": "code",
   "execution_count": null,
   "metadata": {
    "collapsed": true
   },
   "outputs": [],
   "source": [
    "imgs = train['x'][idx]\n",
    "masks = train['y'][idx]"
   ]
  },
  {
   "cell_type": "code",
   "execution_count": null,
   "metadata": {},
   "outputs": [],
   "source": [
    "fig, axes = plt.subplots(3, 3, figsize = (12, 12))\n",
    "fig.subplots_adjust(hspace = 0.4, wspace = 0.4)\n",
    "for i, ax in enumerate(axes.flat):\n",
    "    ax.imshow(imgs[i])\n",
    "    ax.set_xticks([])\n",
    "    ax.set_yticks([])"
   ]
  },
  {
   "cell_type": "code",
   "execution_count": null,
   "metadata": {},
   "outputs": [],
   "source": [
    "fig, axes = plt.subplots(3, 3, figsize = (12, 12))\n",
    "fig.subplots_adjust(hspace = 0.4, wspace = 0.4)\n",
    "for i, ax in enumerate(axes.flat):\n",
    "    ax.imshow(masks[i])\n",
    "    ax.set_xticks([])\n",
    "    ax.set_yticks([])"
   ]
  },
  {
   "cell_type": "code",
   "execution_count": null,
   "metadata": {},
   "outputs": [],
   "source": [
    "print len(ip._imgs)\n",
    "idx = np.array([np.random.randint(len(ip._imgs)) for i in range(9)])\n",
    "imgs = [ip._imgs[i] for i in idx]\n",
    "masks = [ip._masks[i] for i in idx]"
   ]
  },
  {
   "cell_type": "code",
   "execution_count": null,
   "metadata": {},
   "outputs": [],
   "source": [
    "fig, axes = plt.subplots(3, 3, figsize = (12, 12))\n",
    "fig.subplots_adjust(hspace = 0.4, wspace = 0.4)\n",
    "for i, ax in enumerate(axes.flat):\n",
    "    ax.imshow(imgs[i])\n",
    "    ax.set_xticks([])\n",
    "    ax.set_yticks([])"
   ]
  },
  {
   "cell_type": "code",
   "execution_count": null,
   "metadata": {},
   "outputs": [],
   "source": [
    "fig, axes = plt.subplots(3, 3, figsize = (12, 12))\n",
    "fig.subplots_adjust(hspace = 0.4, wspace = 0.4)\n",
    "for i, ax in enumerate(axes.flat):\n",
    "    ax.imshow(masks[i])\n",
    "    ax.set_xticks([])\n",
    "    ax.set_yticks([])"
   ]
  },
  {
   "cell_type": "code",
   "execution_count": null,
   "metadata": {},
   "outputs": [],
   "source": [
    "# Keras\n",
    "from keras import backend as K\n",
    "from keras.datasets import mnist\n",
    "from keras.models import Sequential, Model\n",
    "from keras.layers import Dense, Dropout, Activation, GlobalMaxPooling2D, GlobalAveragePooling2D\n",
    "from keras.layers import Flatten, Conv2D, MaxPooling2D, AveragePooling2D, Input, Reshape\n",
    "from keras.optimizers import SGD, Adam, RMSprop, Adadelta\n",
    "from keras.utils import np_utils, plot_model\n",
    "from keras.layers.normalization import BatchNormalization\n",
    "from keras.layers.advanced_activations import LeakyReLU, PReLU\n",
    "from keras.callbacks import LearningRateScheduler\n",
    "from keras import regularizers\n",
    "from keras.applications.vgg16 import VGG16\n",
    "from keras.applications.resnet50 import ResNet50"
   ]
  },
  {
   "cell_type": "code",
   "execution_count": null,
   "metadata": {},
   "outputs": [],
   "source": [
    "model = Sequential()\n",
    "model.add(Conv2D(16, input_shape = (128, 128, 3), kernel_size = (7, 7), padding = 'same'))\n",
    "model.add(Activation('relu'))\n",
    "model.add(Dropout(0.17))\n",
    "model.add(Conv2D(32, kernel_size = (5, 5), padding = 'same'))\n",
    "model.add(Activation('relu'))\n",
    "model.add(Dropout(0.36))\n",
    "model.add(Conv2D(64, kernel_size = (5, 5), padding = 'same'))\n",
    "model.add(Activation('relu'))\n",
    "model.add(Dropout(0.64))\n",
    "model.add(Conv2D(128, kernel_size = (3, 3), padding = 'same'))\n",
    "model.add(Activation('relu'))\n",
    "model.add(Dropout(0.5))\n",
    "model.add(Conv2D(1, kernel_size = (3, 3), padding = 'same'))\n",
    "model.add(Activation('sigmoid'))\n",
    "model.add(Reshape((128, 128)))\n",
    "model.summary()"
   ]
  },
  {
   "cell_type": "code",
   "execution_count": null,
   "metadata": {
    "collapsed": true
   },
   "outputs": [],
   "source": [
    "learning_rate = 0.01\n",
    "optimizer = SGD(learning_rate)\n",
    "loss = 'binary_crossentropy'\n",
    "metrics = ['accuracy']\n",
    "model.compile(optimizer=optimizer, loss=loss, metrics=metrics)"
   ]
  },
  {
   "cell_type": "code",
   "execution_count": null,
   "metadata": {},
   "outputs": [],
   "source": [
    "for i in range(17):\n",
    "    %time train = ip.get_batch_data(expand=8, seed=i**5)\n",
    "    model.fit(train['x'], train['y'], batch_size=32, epochs=3, verbose=1)"
   ]
  },
  {
   "cell_type": "code",
   "execution_count": null,
   "metadata": {},
   "outputs": [],
   "source": [
    "ip.get_test_set(path='../../data/test', normalize=True)"
   ]
  },
  {
   "cell_type": "code",
   "execution_count": null,
   "metadata": {},
   "outputs": [],
   "source": [
    "masks = []\n",
    "stride = 16\n",
    "for img in ip._test_imgs:\n",
    "    coordinates = [\n",
    "        (min(i, img.shape[0]-ip._size), min(j, img.shape[1]-ip._size))\n",
    "        for i in range(0, img.shape[0], stride)\n",
    "        for j in range(0, img.shape[1], stride)\n",
    "    ]\n",
    "    test_batch = model.predict(np.array([img[i: i+ip._size, j: j+ip._size] for i, j in coordinates]))\n",
    "    mask = np.zeros(img.shape[:2])\n",
    "    ratio = np.zeros(img.shape[:2])\n",
    "    for (i, j), _mask in zip(coordinates, test_batch):\n",
    "        mask[i: i+ip._size, j: j+ip._size] += _mask\n",
    "        ratio[i: i+ip._size, j: j+ip._size] += np.ones((ip._size, ip._size))\n",
    "    masks.append(mask.astype(np.float32)/ratio.astype(np.float32))\n",
    "print masks[0]"
   ]
  },
  {
   "cell_type": "code",
   "execution_count": null,
   "metadata": {},
   "outputs": [],
   "source": [
    "ip._test_masks = masks"
   ]
  },
  {
   "cell_type": "code",
   "execution_count": null,
   "metadata": {},
   "outputs": [],
   "source": [
    "from skimage import io, transform, morphology, filters"
   ]
  },
  {
   "cell_type": "code",
   "execution_count": null,
   "metadata": {
    "collapsed": true
   },
   "outputs": [],
   "source": [
    "# Run-length encoding stolen from https://www.kaggle.com/rakhlin/fast-run-length-encoding-python\n",
    "def rle_encoding(x):\n",
    "    dots = np.where(x.T.flatten() == 1)[0]\n",
    "    run_lengths = []\n",
    "    prev = -2\n",
    "    for b in dots:\n",
    "        if (b>prev+1): run_lengths.extend((b + 1, 0))\n",
    "        run_lengths[-1] += 1\n",
    "        prev = b\n",
    "    return run_lengths"
   ]
  },
  {
   "cell_type": "code",
   "execution_count": null,
   "metadata": {},
   "outputs": [],
   "source": [
    "def rle_decode(mask_rle, shape):\n",
    "    '''\n",
    "    mask_rle: run-length as string formated (start length)\n",
    "    shape: (height,width) of array to return \n",
    "    Returns numpy array, 1 - mask, 0 - background\n",
    "\n",
    "    '''\n",
    "    if type(mask_rle) == str:\n",
    "        s = mask_rle.split()\n",
    "    else:\n",
    "        s = mask_rle\n",
    "    starts, lengths = [np.asarray(x, dtype=int) for x in (s[0:][::2], s[1:][::2])]\n",
    "    starts -= 1\n",
    "    ends = starts + lengths\n",
    "    img = np.zeros(shape[0]*shape[1], dtype=np.uint8)\n",
    "    for lo, hi in zip(starts, ends):\n",
    "        img[lo:hi] = 1\n",
    "    return img.reshape(shape).T"
   ]
  },
  {
   "cell_type": "code",
   "execution_count": null,
   "metadata": {
    "collapsed": true
   },
   "outputs": [],
   "source": [
    "def prob_to_rles(x, cutoff=0.5, debug=False, dilation=False):\n",
    "    lab_img = morphology.label(x > cutoff) # split of components goes here\n",
    "    if debug:\n",
    "        plt.imshow(lab_img)\n",
    "        plt.show() \n",
    "        lab_img2=lab_img\n",
    "    if dilation:\n",
    "        for i in range(1, lab_img.max() + 1):    \n",
    "            lab_img = np.maximum(lab_img, ndimage.morphology.binary_dilation(lab_img==i)*i)\n",
    "        if debug:\n",
    "            plt.imshow(lab_img)\n",
    "            plt.show()    \n",
    "    for i in range(1, lab_img.max() + 1):\n",
    "        img = lab_img == i\n",
    "        yield rle_encoding(img)"
   ]
  },
  {
   "cell_type": "code",
   "execution_count": null,
   "metadata": {},
   "outputs": [],
   "source": [
    "new_test_ids = []\n",
    "rles = []\n",
    "for id_, pred_mask in zip(ip._test_ids, ip._test_masks):\n",
    "    rle = list(prob_to_rles(pred_mask, cutoff=0.5))\n",
    "    rles.extend(rle)\n",
    "    new_test_ids.extend([id_] * len(rle))"
   ]
  },
  {
   "cell_type": "code",
   "execution_count": null,
   "metadata": {},
   "outputs": [],
   "source": [
    "sub = pd.DataFrame()\n",
    "sub['ImageId'] = new_test_ids\n",
    "sub['EncodedPixels'] = pd.Series(rles).apply(lambda x: ' '.join(str(y) for y in x))\n",
    "\n",
    "sub.to_csv('submission.csv', index=False)"
   ]
  },
  {
   "cell_type": "code",
   "execution_count": null,
   "metadata": {},
   "outputs": [],
   "source": [
    "print len(ip._test_imgs)\n",
    "idx = np.array([np.random.randint(len(ip._test_imgs)) for i in range(9)])\n",
    "imgs = [ip._test_imgs[i] for i in idx]\n",
    "masks = [ip._test_masks[i] for i in idx]"
   ]
  },
  {
   "cell_type": "code",
   "execution_count": null,
   "metadata": {},
   "outputs": [],
   "source": [
    "fig, axes = plt.subplots(3, 3, figsize = (12, 12))\n",
    "fig.subplots_adjust(hspace = 0.4, wspace = 0.4)\n",
    "for i, ax in enumerate(axes.flat):\n",
    "    ax.imshow(imgs[i])\n",
    "    ax.set_xticks([])\n",
    "    ax.set_yticks([])"
   ]
  },
  {
   "cell_type": "code",
   "execution_count": null,
   "metadata": {},
   "outputs": [],
   "source": [
    "fig, axes = plt.subplots(3, 3, figsize = (12, 12))\n",
    "fig.subplots_adjust(hspace = 0.4, wspace = 0.4)\n",
    "for i, ax in enumerate(axes.flat):\n",
    "    ax.imshow(masks[i])\n",
    "    ax.set_xticks([])\n",
    "    ax.set_yticks([])"
   ]
  },
  {
   "cell_type": "code",
   "execution_count": null,
   "metadata": {
    "collapsed": true
   },
   "outputs": [],
   "source": []
  }
 ],
 "metadata": {
  "kernelspec": {
   "display_name": "Python 2",
   "language": "python",
   "name": "python2"
  },
  "language_info": {
   "codemirror_mode": {
    "name": "ipython",
    "version": 2
   },
   "file_extension": ".py",
   "mimetype": "text/x-python",
   "name": "python",
   "nbconvert_exporter": "python",
   "pygments_lexer": "ipython2",
   "version": "2.7.13"
  }
 },
 "nbformat": 4,
 "nbformat_minor": 2
}
